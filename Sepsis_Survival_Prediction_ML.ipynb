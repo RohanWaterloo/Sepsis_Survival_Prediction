{
 "cells": [
  {
   "cell_type": "markdown",
   "metadata": {},
   "source": [
    "# Introduction"
   ]
  },
  {
   "cell_type": "markdown",
   "metadata": {},
   "source": [
    "### Problem Statement"
   ]
  },
  {
   "cell_type": "markdown",
   "metadata": {},
   "source": [
    "Sepsis is a life-threatening medical condition that is caused by the spread of infection in one’s body, resulting in multiple organ failure or even death in many cases. Since it is a serious issue which can cause death, prediction of survival in such cases is among the top priorities of medical community today. Though we have a lot of sophisticated medical laboratories that can provide useful information about the patient, yet these things take their time, and might not be available immediately, not allowing medical practitioners to detect an urgent life threat and treat accordingly."
   ]
  },
  {
   "cell_type": "markdown",
   "metadata": {},
   "source": [
    "### Problem Solution: Machine Learning"
   ]
  },
  {
   "cell_type": "markdown",
   "metadata": {},
   "source": [
    "Machine learning can be applied in this setting to get faster results. It can help build a model which can take in variables that can be easily retrieved, and if dataset available is large enough and contains balanced information on alive and deceased patients, can give accurate predictions of survival based on a handful of related inputs only."
   ]
  },
  {
   "cell_type": "markdown",
   "metadata": {},
   "source": [
    "This project is inspired from a research that aims to show that prediction of survival from Sepsis can be done with minimal predictor variables that are very easily available, allowing medical practitioners to quickly indentify patient outcomes. Original researchers have used a total of 5 different machine learning alogrithms and showed the accuracy of models trained by using only 3 predictor variables. I have used 4 machine learning alogorithms I think can be useful in this situation to validate the claim made by the researchers in their paper.\n",
    "Please refer to the research paper attached for any reference during this project. The official link to the paper is https://www.nature.com/articles/s41598-020-73558-3.\n",
    "\n",
    "Purpose of this project is to predict the survival of patients with sepsis from age, sex and septic episode number as predictor variables. Different classifier methods will used and the one with better performance metrics will be recommended for Sepsis prediction on real dataset after being trained on data available."
   ]
  },
  {
   "cell_type": "markdown",
   "metadata": {},
   "source": [
    "### Description of datasets used"
   ]
  },
  {
   "cell_type": "markdown",
   "metadata": {},
   "source": [
    "I have used two datasets for this part of the project:\n",
    "\n",
    "1. 's41598-020-73558-3_sepsis_survival_study_cohort.csv'\n",
    "\n",
    "2. 's41598-020-73558-3_sepsis_survival_validation_cohort.csv'\n",
    "\n",
    "Dataset 1 is made of 19,051 admissions of hospitalized subjects between 2011 and 2012 in Norway who were diagnosed with infections, systemic inflammatory response syndrome (SIRS), sepsis by causative microbes, or septic shock. The data comes from the Norwegian Patient Registry and the Statistics Norway agency (please refer research paper for further details)\n",
    "\n",
    "Dataset 2 consists of South Korean critically ill patients whose medical records were collected between between January 2007 and December 2015 and publically released by Lee and colleagues. From their original dataset, researchers selected the data of 137 patients who had already 1 or 2 septic episodes and tested their model on this dataset to further corroborate their findings.\n",
    "\n",
    "So in this project I will be training the machine learning model on Dataset 1 (that is the study cohort) and then test the resulting model on the instances of Dataset 2.\n",
    "\n",
    "The datasets can be found in the GitHub repository for this code"
   ]
  },
  {
   "cell_type": "markdown",
   "metadata": {},
   "source": [
    "# Data Exploration"
   ]
  },
  {
   "cell_type": "markdown",
   "metadata": {},
   "source": [
    "Importing the required libraries"
   ]
  },
  {
   "cell_type": "code",
   "execution_count": 1,
   "metadata": {},
   "outputs": [],
   "source": [
    "import numpy as np \n",
    "import pandas as pd\n",
    "import matplotlib.pyplot as plt\n",
    "import seaborn as sns\n",
    "%matplotlib inline"
   ]
  },
  {
   "cell_type": "markdown",
   "metadata": {},
   "source": [
    "Reading in the data file"
   ]
  },
  {
   "cell_type": "code",
   "execution_count": 2,
   "metadata": {},
   "outputs": [],
   "source": [
    "patients=pd.read_csv('s41598-020-73558-3_sepsis_survival_study_cohort.csv')"
   ]
  },
  {
   "cell_type": "markdown",
   "metadata": {},
   "source": [
    "### Exploring the structure of dataset"
   ]
  },
  {
   "cell_type": "code",
   "execution_count": 3,
   "metadata": {},
   "outputs": [
    {
     "data": {
      "text/html": [
       "<div>\n",
       "<style scoped>\n",
       "    .dataframe tbody tr th:only-of-type {\n",
       "        vertical-align: middle;\n",
       "    }\n",
       "\n",
       "    .dataframe tbody tr th {\n",
       "        vertical-align: top;\n",
       "    }\n",
       "\n",
       "    .dataframe thead th {\n",
       "        text-align: right;\n",
       "    }\n",
       "</style>\n",
       "<table border=\"1\" class=\"dataframe\">\n",
       "  <thead>\n",
       "    <tr style=\"text-align: right;\">\n",
       "      <th></th>\n",
       "      <th>age_years</th>\n",
       "      <th>sex_0male_1female</th>\n",
       "      <th>episode_number</th>\n",
       "      <th>hospital_outcome_1alive_0dead</th>\n",
       "    </tr>\n",
       "  </thead>\n",
       "  <tbody>\n",
       "    <tr>\n",
       "      <th>0</th>\n",
       "      <td>7</td>\n",
       "      <td>1</td>\n",
       "      <td>1</td>\n",
       "      <td>1</td>\n",
       "    </tr>\n",
       "    <tr>\n",
       "      <th>1</th>\n",
       "      <td>17</td>\n",
       "      <td>0</td>\n",
       "      <td>2</td>\n",
       "      <td>1</td>\n",
       "    </tr>\n",
       "    <tr>\n",
       "      <th>2</th>\n",
       "      <td>70</td>\n",
       "      <td>0</td>\n",
       "      <td>1</td>\n",
       "      <td>1</td>\n",
       "    </tr>\n",
       "    <tr>\n",
       "      <th>3</th>\n",
       "      <td>76</td>\n",
       "      <td>0</td>\n",
       "      <td>1</td>\n",
       "      <td>1</td>\n",
       "    </tr>\n",
       "    <tr>\n",
       "      <th>4</th>\n",
       "      <td>8</td>\n",
       "      <td>0</td>\n",
       "      <td>1</td>\n",
       "      <td>1</td>\n",
       "    </tr>\n",
       "  </tbody>\n",
       "</table>\n",
       "</div>"
      ],
      "text/plain": [
       "   age_years  sex_0male_1female  episode_number  hospital_outcome_1alive_0dead\n",
       "0          7                  1               1                              1\n",
       "1         17                  0               2                              1\n",
       "2         70                  0               1                              1\n",
       "3         76                  0               1                              1\n",
       "4          8                  0               1                              1"
      ]
     },
     "execution_count": 3,
     "metadata": {},
     "output_type": "execute_result"
    }
   ],
   "source": [
    "patients.head() # checking some top rows in the dataset"
   ]
  },
  {
   "cell_type": "code",
   "execution_count": 4,
   "metadata": {},
   "outputs": [
    {
     "name": "stdout",
     "output_type": "stream",
     "text": [
      "<class 'pandas.core.frame.DataFrame'>\n",
      "RangeIndex: 19051 entries, 0 to 19050\n",
      "Data columns (total 4 columns):\n",
      " #   Column                         Non-Null Count  Dtype\n",
      "---  ------                         --------------  -----\n",
      " 0   age_years                      19051 non-null  int64\n",
      " 1   sex_0male_1female              19051 non-null  int64\n",
      " 2   episode_number                 19051 non-null  int64\n",
      " 3   hospital_outcome_1alive_0dead  19051 non-null  int64\n",
      "dtypes: int64(4)\n",
      "memory usage: 595.5 KB\n"
     ]
    }
   ],
   "source": [
    "patients.info() # this tells about the number of instances in every column, their data types and presence of null values"
   ]
  },
  {
   "cell_type": "markdown",
   "metadata": {},
   "source": [
    "So there are no null values in the dataset. All variables, including predictors and outcome class is of integer data type, which implies that we have discreet data points for every instance"
   ]
  },
  {
   "cell_type": "code",
   "execution_count": 5,
   "metadata": {},
   "outputs": [
    {
     "data": {
      "text/html": [
       "<div>\n",
       "<style scoped>\n",
       "    .dataframe tbody tr th:only-of-type {\n",
       "        vertical-align: middle;\n",
       "    }\n",
       "\n",
       "    .dataframe tbody tr th {\n",
       "        vertical-align: top;\n",
       "    }\n",
       "\n",
       "    .dataframe thead th {\n",
       "        text-align: right;\n",
       "    }\n",
       "</style>\n",
       "<table border=\"1\" class=\"dataframe\">\n",
       "  <thead>\n",
       "    <tr style=\"text-align: right;\">\n",
       "      <th></th>\n",
       "      <th>age_years</th>\n",
       "      <th>sex_0male_1female</th>\n",
       "      <th>episode_number</th>\n",
       "      <th>hospital_outcome_1alive_0dead</th>\n",
       "    </tr>\n",
       "  </thead>\n",
       "  <tbody>\n",
       "    <tr>\n",
       "      <th>count</th>\n",
       "      <td>19051.000000</td>\n",
       "      <td>19051.000000</td>\n",
       "      <td>19051.000000</td>\n",
       "      <td>19051.000000</td>\n",
       "    </tr>\n",
       "    <tr>\n",
       "      <th>mean</th>\n",
       "      <td>72.503228</td>\n",
       "      <td>0.448585</td>\n",
       "      <td>1.396252</td>\n",
       "      <td>0.810719</td>\n",
       "    </tr>\n",
       "    <tr>\n",
       "      <th>std</th>\n",
       "      <td>18.614470</td>\n",
       "      <td>0.497363</td>\n",
       "      <td>0.783749</td>\n",
       "      <td>0.391742</td>\n",
       "    </tr>\n",
       "    <tr>\n",
       "      <th>min</th>\n",
       "      <td>0.000000</td>\n",
       "      <td>0.000000</td>\n",
       "      <td>1.000000</td>\n",
       "      <td>0.000000</td>\n",
       "    </tr>\n",
       "    <tr>\n",
       "      <th>25%</th>\n",
       "      <td>65.000000</td>\n",
       "      <td>0.000000</td>\n",
       "      <td>1.000000</td>\n",
       "      <td>1.000000</td>\n",
       "    </tr>\n",
       "    <tr>\n",
       "      <th>50%</th>\n",
       "      <td>77.000000</td>\n",
       "      <td>0.000000</td>\n",
       "      <td>1.000000</td>\n",
       "      <td>1.000000</td>\n",
       "    </tr>\n",
       "    <tr>\n",
       "      <th>75%</th>\n",
       "      <td>85.000000</td>\n",
       "      <td>1.000000</td>\n",
       "      <td>2.000000</td>\n",
       "      <td>1.000000</td>\n",
       "    </tr>\n",
       "    <tr>\n",
       "      <th>max</th>\n",
       "      <td>100.000000</td>\n",
       "      <td>1.000000</td>\n",
       "      <td>5.000000</td>\n",
       "      <td>1.000000</td>\n",
       "    </tr>\n",
       "  </tbody>\n",
       "</table>\n",
       "</div>"
      ],
      "text/plain": [
       "          age_years  sex_0male_1female  episode_number  \\\n",
       "count  19051.000000       19051.000000    19051.000000   \n",
       "mean      72.503228           0.448585        1.396252   \n",
       "std       18.614470           0.497363        0.783749   \n",
       "min        0.000000           0.000000        1.000000   \n",
       "25%       65.000000           0.000000        1.000000   \n",
       "50%       77.000000           0.000000        1.000000   \n",
       "75%       85.000000           1.000000        2.000000   \n",
       "max      100.000000           1.000000        5.000000   \n",
       "\n",
       "       hospital_outcome_1alive_0dead  \n",
       "count                   19051.000000  \n",
       "mean                        0.810719  \n",
       "std                         0.391742  \n",
       "min                         0.000000  \n",
       "25%                         1.000000  \n",
       "50%                         1.000000  \n",
       "75%                         1.000000  \n",
       "max                         1.000000  "
      ]
     },
     "execution_count": 5,
     "metadata": {},
     "output_type": "execute_result"
    }
   ],
   "source": [
    "patients.describe() # this tells about some standard statistical measures like mean, min, max, quartiles for values in every column"
   ]
  },
  {
   "cell_type": "markdown",
   "metadata": {},
   "source": [
    "The proportion of male population is more, as the average of 0 and 1 is less than 0.5, implying presence of more 0, that is males in the dataset. Mostly patients have had upto 2 episodes of Sepsis before, at the time of collection of this dataset, though the maximum number of episodes go upto 5. The number of alive people in dataset is way more than those deceased.\n",
    "Based on above age ranges, patients appear to be in their fifties and sixties onwards. But the minimum for age_years value is 0, which means there are patient records in the dataset where age is put as 0, which is not possible. Let's explore this further"
   ]
  },
  {
   "cell_type": "code",
   "execution_count": 6,
   "metadata": {},
   "outputs": [
    {
     "data": {
      "text/plain": [
       "63"
      ]
     },
     "execution_count": 6,
     "metadata": {},
     "output_type": "execute_result"
    }
   ],
   "source": [
    "sum(patients['age_years']==0) # number of patients having zero age. Code inside the sum() gives a series of boolean values. When summned, the true values add up as 1, giving the number of cases where the comparison of age_years=0 is True"
   ]
  },
  {
   "cell_type": "markdown",
   "metadata": {},
   "source": [
    "Checking numbers of rows in dataset where age column contains 0 value. It turns out that 63 rows contain age as 0. Seeing the distribution of age in data visualization performed (in the following blocks of code), the age goes from 0 to 100 and it is an integer value as seen in the info(). So age 0 might be the cases where patients were new born babies and were not even 1 year old when they were admitted to the hospital. Since the age cannot be floating type, the person who recorded the data could have put the age as 0 for babies who were less than 1 year old. Since this seems to present a somewhat practical approach, when data is constrained by data type (integer only), we can move forward with age as 0. But one has to make sure that the model trained on such data should only be applied to test data with the same data types for all variables as our dataset, and the same methodology of assigning 0 to new borns has been followed while collecting the test data also"
   ]
  },
  {
   "cell_type": "code",
   "execution_count": 7,
   "metadata": {},
   "outputs": [
    {
     "data": {
      "text/html": [
       "<div>\n",
       "<style scoped>\n",
       "    .dataframe tbody tr th:only-of-type {\n",
       "        vertical-align: middle;\n",
       "    }\n",
       "\n",
       "    .dataframe tbody tr th {\n",
       "        vertical-align: top;\n",
       "    }\n",
       "\n",
       "    .dataframe thead th {\n",
       "        text-align: right;\n",
       "    }\n",
       "</style>\n",
       "<table border=\"1\" class=\"dataframe\">\n",
       "  <thead>\n",
       "    <tr style=\"text-align: right;\">\n",
       "      <th></th>\n",
       "      <th>age_years</th>\n",
       "      <th>sex_0male_1female</th>\n",
       "      <th>episode_number</th>\n",
       "    </tr>\n",
       "  </thead>\n",
       "  <tbody>\n",
       "    <tr>\n",
       "      <th>age_years</th>\n",
       "      <td>1.000000</td>\n",
       "      <td>0.063937</td>\n",
       "      <td>-0.068292</td>\n",
       "    </tr>\n",
       "    <tr>\n",
       "      <th>sex_0male_1female</th>\n",
       "      <td>0.063937</td>\n",
       "      <td>1.000000</td>\n",
       "      <td>-0.039642</td>\n",
       "    </tr>\n",
       "    <tr>\n",
       "      <th>episode_number</th>\n",
       "      <td>-0.068292</td>\n",
       "      <td>-0.039642</td>\n",
       "      <td>1.000000</td>\n",
       "    </tr>\n",
       "  </tbody>\n",
       "</table>\n",
       "</div>"
      ],
      "text/plain": [
       "                   age_years  sex_0male_1female  episode_number\n",
       "age_years           1.000000           0.063937       -0.068292\n",
       "sex_0male_1female   0.063937           1.000000       -0.039642\n",
       "episode_number     -0.068292          -0.039642        1.000000"
      ]
     },
     "execution_count": 7,
     "metadata": {},
     "output_type": "execute_result"
    }
   ],
   "source": [
    "patients.drop(['hospital_outcome_1alive_0dead'],axis=1).corr() # checking for correlation between the predictor variables used"
   ]
  },
  {
   "cell_type": "markdown",
   "metadata": {},
   "source": [
    "As it can be seen, there is no correlation between the 3 predictor variables chosen for this analysis"
   ]
  },
  {
   "cell_type": "markdown",
   "metadata": {},
   "source": [
    "### Data Visualization"
   ]
  },
  {
   "cell_type": "markdown",
   "metadata": {},
   "source": [
    "Checking the class imbalance of data, i.e. number of patient records who survived vs patients who did not survive.\n",
    "It can be seen that there is a considerable imbalance in the data."
   ]
  },
  {
   "cell_type": "code",
   "execution_count": 8,
   "metadata": {},
   "outputs": [
    {
     "data": {
      "text/plain": [
       "<AxesSubplot:xlabel='hospital_outcome_1alive_0dead', ylabel='Count'>"
      ]
     },
     "execution_count": 8,
     "metadata": {},
     "output_type": "execute_result"
    },
    {
     "data": {
      "image/png": "[encoded data removed]",
      "text/plain": [
       "<Figure size 432x288 with 1 Axes>"
      ]
     },
     "metadata": {
      "needs_background": "light"
     },
     "output_type": "display_data"
    }
   ],
   "source": [
    "sns.histplot(patients['hospital_outcome_1alive_0dead'],color='red')"
   ]
  },
  {
   "cell_type": "markdown",
   "metadata": {},
   "source": [
    "Checking the distribution of all three predictor variables with respect to the hospital outcome of survivial or death"
   ]
  },
  {
   "cell_type": "code",
   "execution_count": 9,
   "metadata": {},
   "outputs": [
    {
     "data": {
      "text/plain": [
       "<seaborn.axisgrid.FacetGrid at 0x1c097c8c730>"
      ]
     },
     "execution_count": 9,
     "metadata": {},
     "output_type": "execute_result"
    },
    {
     "data": {
      "image/png": "[encoded data removed]",
      "text/plain": [
       "<Figure size 432x216 with 2 Axes>"
      ]
     },
     "metadata": {
      "needs_background": "light"
     },
     "output_type": "display_data"
    }
   ],
   "source": [
    "g=sns.FacetGrid(data=patients,col='hospital_outcome_1alive_0dead') # this makes an underlying plot which divides the upcoming plot space based on values specified in col\n",
    "g.map(plt.hist,'age_years') # g.map allows the plot created to be divided into the segments created by FacetGrid in above line of code"
   ]
  },
  {
   "cell_type": "markdown",
   "metadata": {},
   "source": [
    "It appears from the distribution that the majority of deceased people are above 50 years of age. The majority of people who survived also appear to be coming from the same age group. But there are some instances of younger population also. One may conclude that people below the age of 40 rarely die of Sepsis based on this data. But a possible case could also be that young patients who deceased did not come to those hospitals from where this data was collected. Since the dataset available is very imbalanced, there could have been cases of deceased young patients but were not recorded in this dataset, as this dataset has about 80% cases of only those patients who survived"
   ]
  },
  {
   "cell_type": "code",
   "execution_count": 10,
   "metadata": {},
   "outputs": [
    {
     "data": {
      "text/plain": [
       "<seaborn.axisgrid.FacetGrid at 0x1c099117820>"
      ]
     },
     "execution_count": 10,
     "metadata": {},
     "output_type": "execute_result"
    },
    {
     "data": {
      "image/png": "[encoded data removed]",
      "text/plain": [
       "<Figure size 432x216 with 2 Axes>"
      ]
     },
     "metadata": {
      "needs_background": "light"
     },
     "output_type": "display_data"
    }
   ],
   "source": [
    "g=sns.FacetGrid(data=patients,col='hospital_outcome_1alive_0dead')\n",
    "g.map(plt.hist,'sex_0male_1female') # same is done for sex column"
   ]
  },
  {
   "cell_type": "markdown",
   "metadata": {},
   "source": [
    "There does not appear to be a substantial relationship between male and female proportion in both survived and deceased cases. But the count of males is more in both cases. This can be due to the presence of more males in the dataset collected than the number of females "
   ]
  },
  {
   "cell_type": "code",
   "execution_count": 11,
   "metadata": {},
   "outputs": [
    {
     "data": {
      "text/plain": [
       "<seaborn.axisgrid.FacetGrid at 0x1c09922c610>"
      ]
     },
     "execution_count": 11,
     "metadata": {},
     "output_type": "execute_result"
    },
    {
     "data": {
      "image/png": "[encoded data removed]",
      "text/plain": [
       "<Figure size 432x216 with 2 Axes>"
      ]
     },
     "metadata": {
      "needs_background": "light"
     },
     "output_type": "display_data"
    }
   ],
   "source": [
    "g=sns.FacetGrid(data=patients,col='hospital_outcome_1alive_0dead')\n",
    "g.map(plt.hist,'episode_number') # same is done for episode_number column"
   ]
  },
  {
   "cell_type": "markdown",
   "metadata": {},
   "source": [
    "Majority of patients in both cases have upto 2 number of sepsis episode. Assuming that the data represents an unbiased picture of sepsis cases, one can infer that chances of survival decrease very much once a person has had 2 episodes of Sepsis before. That is why in the dataset, patients reporting to the hospital with more than 2 episodes of Sepsis before are very less in both categories of patients as compared to the ones with upto 2 episodes of Sepsis"
   ]
  },
  {
   "cell_type": "code",
   "execution_count": 12,
   "metadata": {},
   "outputs": [
    {
     "data": {
      "text/plain": [
       "<seaborn.axisgrid.PairGrid at 0x1c09930a340>"
      ]
     },
     "execution_count": 12,
     "metadata": {},
     "output_type": "execute_result"
    },
    {
     "data": {
      "image/png": "[encoded data removed]",
      "text/plain": [
       "<Figure size 707.75x540 with 12 Axes>"
      ]
     },
     "metadata": {
      "needs_background": "light"
     },
     "output_type": "display_data"
    }
   ],
   "source": [
    "sns.pairplot(data=patients,hue='hospital_outcome_1alive_0dead',palette='coolwarm') "
   ]
  },
  {
   "cell_type": "markdown",
   "metadata": {},
   "source": [
    "Based upon the overall visualizations, one can state that it is very difficult to infer something concrete about the relationship of these 3 predictor variables with the outcome. It is mainly because of the heavy imbalance in the dataset, which contains more than 80% of the instances belonging to people who survived and according to those we have the majority of values for predictors also"
   ]
  },
  {
   "cell_type": "markdown",
   "metadata": {},
   "source": [
    "# Data Models Using Machine Learning"
   ]
  },
  {
   "cell_type": "markdown",
   "metadata": {},
   "source": [
    "### Model 1: Logisitic Regression (starting with the most basic models in ML for binary classification)"
   ]
  },
  {
   "cell_type": "markdown",
   "metadata": {},
   "source": [
    "Importing the required packages for LogisitcRegression and evaluation metrics used"
   ]
  },
  {
   "cell_type": "code",
   "execution_count": 13,
   "metadata": {},
   "outputs": [],
   "source": [
    "from sklearn.linear_model import LogisticRegression  # for data modelling using Logistic Regression\n",
    "from sklearn.model_selection import cross_val_score,StratifiedKFold\n",
    "# StratifiedKFold ensures that class distribution is maintained during the random data splits. This is especially useful in case of imbalanced datasets\n",
    "# In every split of test and train data, observations in both contain all the available class labels as per the proportion of class labels in original dataset, which is divided into test and train "
   ]
  },
  {
   "cell_type": "code",
   "execution_count": 14,
   "metadata": {},
   "outputs": [],
   "source": [
    "X=patients[['age_years','sex_0male_1female','episode_number']].values # getting the values of predictor variables\n",
    "y=patients['hospital_outcome_1alive_0dead'].values # getting the values of outcome variable\n",
    "cv=StratifiedKFold(n_splits=5,shuffle=True,random_state=1) # defining the cross validation method as 5-fold Cross Validation"
   ]
  },
  {
   "cell_type": "markdown",
   "metadata": {},
   "source": [
    "Now if we proceed with directly dividing our data into train and test, apply a model and check it's accuracy, then there are high chances that we will end up with a model which will predict Survival i.e. class label of 1 for all the instances in test dataset. This is infact going to be devastating, as it is going to predict survival for those who are actually going to die, thus devoiding them of the urgent care which they need (If doctors at any hospital use a model based on above stated methodology)"
   ]
  },
  {
   "cell_type": "markdown",
   "metadata": {},
   "source": [
    "Suppose we follow a 80-20 split rule for our model. Training the model on 80% of the data and testing on 20%. The machine learning algorithm will learn based on that 80% data. Now, if we consider any machine learning algorithm, the main underlying mathematical cost function always aims to be as accurate as possible on the training data that it is given. Regression reduces Sqaures of Errors, Decision Trees reduce entropy and so on. Moreover, any model is as good as the data which we use to train it. Now in this case, the data is heavily imbalanced with the cases of survived patients. Thus any machine learning algorithm will have a hard time learning the actual values of predictors that really effect the outcome, and chances are that it will predict the majority class for any value of predictor variables given to it, because it has been trained mainly for doing good on patients who survived"
   ]
  },
  {
   "cell_type": "markdown",
   "metadata": {},
   "source": [
    "This is the problem which is faced when one wants to use a classifier on datasets with imbalanced classes.\n",
    "An obvious solution to the above problem, is to gather more data which belongs to the minority class.\n",
    "But it is not always possible, like in our case, where maybe, the number of people dying in real is 1 out of 5, thus placing a natural limit on the data points available to us for minority class"
   ]
  },
  {
   "cell_type": "markdown",
   "metadata": {},
   "source": [
    "To counter this problem and make a better model, I have used 3 methods which try to generate synthetic data points for minority class label instances, based on the available data points belonging to minority class in the original dataset. Thus these methods are also called OverSampling techniques.\n",
    "For all three techniques, I have used 5Fold Cross Validation to get the ROC Area Under Curve as a performance metric to select the best oversampling technique for a particular classifier used on the patients dataset. ROC AUC has been used because we are not only concerned with the model's performance of predicting class label 1 (survival) but also concerned with the prediction of 0 (death). If one only needs to check prediction accuracy of class label 1 (survival in this case) then Precison Recall Area Under Curve can also be used.For more information on ROC AUC, you can check the following sklearn official documentation:\n",
    "\n",
    "https://scikit-learn.org/stable/auto_examples/model_selection/plot_roc.html\n",
    "\n",
    "https://scikit-learn.org/stable/modules/generated/sklearn.metrics.roc_auc_score.html?highlight=roc_auc#sklearn.metrics.roc_auc_score\n",
    "\n",
    "Below is a brief description of the three Oversampling techniques used"
   ]
  },
  {
   "cell_type": "markdown",
   "metadata": {},
   "source": [
    "Random Over Sampling: It involves randomly duplicating examples from the minority class and\n",
    "adding them to the training dataset. Examples from the training dataset are selected randomly with replacement"
   ]
  },
  {
   "cell_type": "markdown",
   "metadata": {},
   "source": [
    "SMOTE (Synthetic Minority OverSampling Technique): It first selects a minority class instance A at random and finds its k nearest minority class neighbors (typically k=5). The synthetic instance is then created by choosing one of the k nearest neighbors B at random and connecting A and B to form a line segment in the feature space. The synthetic instances are generated as a convex combination of the two chosen instances A and B"
   ]
  },
  {
   "cell_type": "markdown",
   "metadata": {},
   "source": [
    "BorderlineSMOTE: It involves selecting those instances of the minority class that are misclassified, such as with a k-nearest neighbor classification model. We can then oversample just those difficult instances, providing more resolution only where it may be required. Identifying instances of minority class that are misclassified can also be done by SVM instead of KNN, in case of BorederlineSMOTE in order to arrive at new synthetic data points for minority class"
   ]
  },
  {
   "cell_type": "raw",
   "metadata": {},
   "source": [
    "**** Please note: For using the below mentioned Over Sampling techniques, you may have to install imblearn package in your machine ***\n",
    "For Anaconda users it can be done by following any of the below commands at command line:\n",
    "conda install -c conda-forge imbalanced-learn\n",
    "conda install -c conda-forge/label/gcc7 imbalanced-learn\n",
    "conda install -c conda-forge/label/cf201901 imbalanced-learn\n",
    "conda install -c conda-forge/label/cf202003 imbalanced-learn"
   ]
  },
  {
   "cell_type": "code",
   "execution_count": 15,
   "metadata": {},
   "outputs": [],
   "source": [
    "# importing the required functions\n",
    "from imblearn.over_sampling import RandomOverSampler  # random over sampling\n",
    "from imblearn.over_sampling import SMOTE # Synthetic Minority Oversampling\n",
    "from imblearn.over_sampling import BorderlineSMOTE # Borderline SMOTE\n",
    "from imblearn.pipeline import Pipeline # this is defined for Cross Validation"
   ]
  },
  {
   "cell_type": "markdown",
   "metadata": {},
   "source": [
    "The purpose of Pipeline is to ensure that during KFold CV, for every fold we have, the oversampling is done only on the training data, the testing data is kept intact as per the original dataset. \n",
    "The main motive of OverSampling is to prepare a better model, which can make better predictions.\n",
    "So the oversampling should be only applied to the data used to train a model, testing needs to be done on the original data only. In real life also, we will not be testing our model on synthetic data, it will be tested on real data. So Pipeline ensures that the training data only in each Fold is oversampled, the test data remains intact and then the model is applied"
   ]
  },
  {
   "cell_type": "code",
   "execution_count": 16,
   "metadata": {},
   "outputs": [
    {
     "name": "stdout",
     "output_type": "stream",
     "text": [
      "0.5896025099172861\n"
     ]
    }
   ],
   "source": [
    "steps1=[('over',RandomOverSampler(sampling_strategy='minority',random_state=1)),('model',LogisticRegression())] # defining Pipeline for LogisticRegression Model\n",
    "# sampling strategy = 'minority' makes the minority class to be oversampled till it's number become equal to majority class\n",
    "# random_state is set to 1 for reproducability of this code, just like setting a random seed\n",
    "pipeline1=Pipeline(steps=steps1) # steps contain RandomOverSampler as we are doing Random Over Sampling\n",
    "score1=np.mean(cross_val_score(pipeline1,X,y,scoring='roc_auc',cv=cv,n_jobs=-1)) # taking mean of roc_auc obtained in each fold to get overall score\n",
    "print(score1)"
   ]
  },
  {
   "cell_type": "code",
   "execution_count": 17,
   "metadata": {},
   "outputs": [
    {
     "name": "stdout",
     "output_type": "stream",
     "text": [
      "0.5901676243128071\n"
     ]
    }
   ],
   "source": [
    "# same process is followed with SMOTE\n",
    "steps2 = [('over', SMOTE()), ('model', LogisticRegression())]\n",
    "pipeline2 = Pipeline(steps=steps2)\n",
    "score2 = np.mean(cross_val_score(pipeline2, X, y, scoring='roc_auc', cv=cv, n_jobs=-1))\n",
    "print(score2)"
   ]
  },
  {
   "cell_type": "code",
   "execution_count": 18,
   "metadata": {},
   "outputs": [
    {
     "name": "stdout",
     "output_type": "stream",
     "text": [
      "0.5907866690168755\n"
     ]
    }
   ],
   "source": [
    "# same process with Borderline SMOTE\n",
    "steps3 = [('over', BorderlineSMOTE()), ('model', LogisticRegression())]\n",
    "pipeline3=Pipeline(steps=steps3)\n",
    "score3 = np.mean(cross_val_score(pipeline3, X, y, scoring='roc_auc', cv=cv, n_jobs=-1))\n",
    "print(score3)"
   ]
  },
  {
   "cell_type": "markdown",
   "metadata": {},
   "source": [
    "So using all three OverSampling Techniques, there is a minimal difference in the ROC AUC reported by all three. But still, to consider the best, we compare all the quantities and get Borderline SMOTE as the best option in case of Logistic Regression Model.These results may vary slightly when run on different machines or run repeatedly, based on the stochastic nature of dataset and sampling strategy. In my case I am using the best one as per the current results"
   ]
  },
  {
   "cell_type": "markdown",
   "metadata": {},
   "source": [
    "### Model 2: Random Forest Classifier"
   ]
  },
  {
   "cell_type": "code",
   "execution_count": 19,
   "metadata": {},
   "outputs": [],
   "source": [
    "from sklearn.ensemble import RandomForestClassifier # importing RandomForestClassifier model"
   ]
  },
  {
   "cell_type": "code",
   "execution_count": 20,
   "metadata": {},
   "outputs": [
    {
     "name": "stdout",
     "output_type": "stream",
     "text": [
      "0.5598171975423691\n"
     ]
    }
   ],
   "source": [
    "# same process is repeated again for Random Forest Classifier\n",
    "steps4 = [('over', RandomOverSampler(sampling_strategy='minority')), ('model', RandomForestClassifier())] # now model is changed to RandomForestClassifier\n",
    "pipeline4 = Pipeline(steps=steps4) # Random Over Sampling\n",
    "score4 = np.mean(cross_val_score(pipeline4, X, y, scoring='roc_auc', cv=cv, n_jobs=-1))\n",
    "print(score4)"
   ]
  },
  {
   "cell_type": "code",
   "execution_count": 21,
   "metadata": {},
   "outputs": [
    {
     "name": "stdout",
     "output_type": "stream",
     "text": [
      "0.5612680260004723\n"
     ]
    }
   ],
   "source": [
    "steps5 = [('over', SMOTE()), ('model', RandomForestClassifier())]\n",
    "pipeline5 = Pipeline(steps=steps5) # SMOTE Over Sampling\n",
    "score5 = np.mean(cross_val_score(pipeline5, X, y, scoring='roc_auc', cv=cv, n_jobs=-1))\n",
    "print(score5)"
   ]
  },
  {
   "cell_type": "code",
   "execution_count": 22,
   "metadata": {},
   "outputs": [
    {
     "name": "stdout",
     "output_type": "stream",
     "text": [
      "0.554095632895617\n"
     ]
    }
   ],
   "source": [
    "steps6 = [('over', BorderlineSMOTE()), ('model', RandomForestClassifier())]\n",
    "pipeline6 = Pipeline(steps=steps6) # Borderline SMOTE\n",
    "score6 = np.mean(cross_val_score(pipeline6, X, y, scoring='roc_auc', cv=cv, n_jobs=-1))\n",
    "print(score6)"
   ]
  },
  {
   "cell_type": "markdown",
   "metadata": {},
   "source": [
    "So using all three OverSampling Techniques, there is a minimal difference in the ROC AUC reported by all three. But still, to consider the best, we compare all the quantities and get Random Over Sampling as the best option in case of Random Forest Classifier. These results may vary slightly, based on the stochastic nature of dataset and sampling strategy. In my case I am using the best one as per the current results"
   ]
  },
  {
   "cell_type": "markdown",
   "metadata": {},
   "source": [
    "### Model 3: Naive Bayes"
   ]
  },
  {
   "cell_type": "code",
   "execution_count": 23,
   "metadata": {},
   "outputs": [],
   "source": [
    "from sklearn.naive_bayes import MultinomialNB # Naive Bayes Classifier"
   ]
  },
  {
   "cell_type": "code",
   "execution_count": 24,
   "metadata": {},
   "outputs": [
    {
     "name": "stdout",
     "output_type": "stream",
     "text": [
      "0.5627894242779863\n"
     ]
    }
   ],
   "source": [
    "steps7 = [('over', RandomOverSampler()), ('model', MultinomialNB())]\n",
    "pipeline7 = Pipeline(steps=steps7) # Random OverSampling\n",
    "score7 = np.mean(cross_val_score(pipeline7, X, y, scoring='roc_auc', cv=cv, n_jobs=-1))\n",
    "print(score7)"
   ]
  },
  {
   "cell_type": "code",
   "execution_count": 25,
   "metadata": {},
   "outputs": [
    {
     "name": "stdout",
     "output_type": "stream",
     "text": [
      "0.5624034763812907\n"
     ]
    }
   ],
   "source": [
    "steps8 = [('over', SMOTE()), ('model', MultinomialNB())]\n",
    "pipeline8 = Pipeline(steps=steps8) # SMOTE\n",
    "score8 = np.mean(cross_val_score(pipeline8, X, y, scoring='roc_auc', cv=cv, n_jobs=-1))\n",
    "print(score8)"
   ]
  },
  {
   "cell_type": "code",
   "execution_count": 26,
   "metadata": {},
   "outputs": [
    {
     "name": "stdout",
     "output_type": "stream",
     "text": [
      "0.5611014654706008\n"
     ]
    }
   ],
   "source": [
    "steps9 = [('over', BorderlineSMOTE()), ('model', MultinomialNB())]\n",
    "pipeline9 = Pipeline(steps=steps9) # Borderline SMOTE\n",
    "score9 = np.mean(cross_val_score(pipeline9, X, y, scoring='roc_auc', cv=cv, n_jobs=-1))\n",
    "print(score9)"
   ]
  },
  {
   "cell_type": "markdown",
   "metadata": {},
   "source": [
    "Random Over Sampling is best here for Naive Bayes.These results may vary slightly, based on the stochastic nature of dataset and sampling strategy. In my case I am using the best one as per the current results"
   ]
  },
  {
   "cell_type": "markdown",
   "metadata": {},
   "source": [
    "### Model 4: Support Vector Classifier"
   ]
  },
  {
   "cell_type": "code",
   "execution_count": 27,
   "metadata": {},
   "outputs": [],
   "source": [
    "from sklearn.svm import SVC # Support Vector Classifier"
   ]
  },
  {
   "cell_type": "code",
   "execution_count": 28,
   "metadata": {},
   "outputs": [
    {
     "name": "stdout",
     "output_type": "stream",
     "text": [
      "0.5871474806415766\n"
     ]
    }
   ],
   "source": [
    "steps10 = [('over', RandomOverSampler()), ('model', SVC())]\n",
    "pipeline10 = Pipeline(steps=steps10) # Random Over Sampling\n",
    "score10 = np.mean(cross_val_score(pipeline10, X, y, scoring='roc_auc', cv=cv, n_jobs=-1))\n",
    "print(score10)"
   ]
  },
  {
   "cell_type": "code",
   "execution_count": 29,
   "metadata": {},
   "outputs": [
    {
     "name": "stdout",
     "output_type": "stream",
     "text": [
      "0.5882684863901647\n"
     ]
    }
   ],
   "source": [
    "steps11 = [('over', SMOTE()), ('model', SVC())]\n",
    "pipeline11 = Pipeline(steps=steps11) # SMOTE\n",
    "score11 = np.mean(cross_val_score(pipeline11, X, y, scoring='roc_auc', cv=cv, n_jobs=-1))\n",
    "print(score11)"
   ]
  },
  {
   "cell_type": "code",
   "execution_count": 30,
   "metadata": {},
   "outputs": [
    {
     "name": "stdout",
     "output_type": "stream",
     "text": [
      "0.5880764608154543\n"
     ]
    }
   ],
   "source": [
    "steps12 = [('over', BorderlineSMOTE()), ('model', SVC())]\n",
    "pipeline12 = Pipeline(steps=steps12) # Borderline SMOTE\n",
    "score12 = np.mean(cross_val_score(pipeline12, X, y, scoring='roc_auc', cv=cv, n_jobs=-1))\n",
    "print(score12)"
   ]
  },
  {
   "cell_type": "markdown",
   "metadata": {},
   "source": [
    "SMOTE turns out to be best for SVC.These results may vary slightly, based on the stochastic nature of dataset and sampling strategy. In my case I am using the best one as per the current results"
   ]
  },
  {
   "cell_type": "markdown",
   "metadata": {},
   "source": [
    "### Training Model on Study Cohort and Testing on Validation Cohor"
   ]
  },
  {
   "cell_type": "code",
   "execution_count": 31,
   "metadata": {},
   "outputs": [],
   "source": [
    "new_records=pd.read_csv('s41598-020-73558-3_sepsis_survival_validation_cohort.csv') # importing the validation dataset as new_records"
   ]
  },
  {
   "cell_type": "code",
   "execution_count": 32,
   "metadata": {},
   "outputs": [
    {
     "data": {
      "text/html": [
       "<div>\n",
       "<style scoped>\n",
       "    .dataframe tbody tr th:only-of-type {\n",
       "        vertical-align: middle;\n",
       "    }\n",
       "\n",
       "    .dataframe tbody tr th {\n",
       "        vertical-align: top;\n",
       "    }\n",
       "\n",
       "    .dataframe thead th {\n",
       "        text-align: right;\n",
       "    }\n",
       "</style>\n",
       "<table border=\"1\" class=\"dataframe\">\n",
       "  <thead>\n",
       "    <tr style=\"text-align: right;\">\n",
       "      <th></th>\n",
       "      <th>age_years</th>\n",
       "      <th>sex_0male_1female</th>\n",
       "      <th>episode_number</th>\n",
       "      <th>hospital_outcome_1alive_0dead</th>\n",
       "    </tr>\n",
       "  </thead>\n",
       "  <tbody>\n",
       "    <tr>\n",
       "      <th>0</th>\n",
       "      <td>20</td>\n",
       "      <td>0</td>\n",
       "      <td>1</td>\n",
       "      <td>1</td>\n",
       "    </tr>\n",
       "    <tr>\n",
       "      <th>1</th>\n",
       "      <td>22</td>\n",
       "      <td>0</td>\n",
       "      <td>1</td>\n",
       "      <td>1</td>\n",
       "    </tr>\n",
       "    <tr>\n",
       "      <th>2</th>\n",
       "      <td>26</td>\n",
       "      <td>1</td>\n",
       "      <td>2</td>\n",
       "      <td>0</td>\n",
       "    </tr>\n",
       "    <tr>\n",
       "      <th>3</th>\n",
       "      <td>33</td>\n",
       "      <td>1</td>\n",
       "      <td>1</td>\n",
       "      <td>1</td>\n",
       "    </tr>\n",
       "    <tr>\n",
       "      <th>4</th>\n",
       "      <td>33</td>\n",
       "      <td>0</td>\n",
       "      <td>1</td>\n",
       "      <td>1</td>\n",
       "    </tr>\n",
       "  </tbody>\n",
       "</table>\n",
       "</div>"
      ],
      "text/plain": [
       "   age_years  sex_0male_1female  episode_number  hospital_outcome_1alive_0dead\n",
       "0         20                  0               1                              1\n",
       "1         22                  0               1                              1\n",
       "2         26                  1               2                              0\n",
       "3         33                  1               1                              1\n",
       "4         33                  0               1                              1"
      ]
     },
     "execution_count": 32,
     "metadata": {},
     "output_type": "execute_result"
    }
   ],
   "source": [
    "new_records.head()"
   ]
  },
  {
   "cell_type": "code",
   "execution_count": 33,
   "metadata": {},
   "outputs": [
    {
     "name": "stdout",
     "output_type": "stream",
     "text": [
      "<class 'pandas.core.frame.DataFrame'>\n",
      "RangeIndex: 137 entries, 0 to 136\n",
      "Data columns (total 4 columns):\n",
      " #   Column                         Non-Null Count  Dtype\n",
      "---  ------                         --------------  -----\n",
      " 0   age_years                      137 non-null    int64\n",
      " 1   sex_0male_1female              137 non-null    int64\n",
      " 2   episode_number                 137 non-null    int64\n",
      " 3   hospital_outcome_1alive_0dead  137 non-null    int64\n",
      "dtypes: int64(4)\n",
      "memory usage: 4.4 KB\n"
     ]
    }
   ],
   "source": [
    "new_records.info()"
   ]
  },
  {
   "cell_type": "code",
   "execution_count": 34,
   "metadata": {},
   "outputs": [
    {
     "data": {
      "text/html": [
       "<div>\n",
       "<style scoped>\n",
       "    .dataframe tbody tr th:only-of-type {\n",
       "        vertical-align: middle;\n",
       "    }\n",
       "\n",
       "    .dataframe tbody tr th {\n",
       "        vertical-align: top;\n",
       "    }\n",
       "\n",
       "    .dataframe thead th {\n",
       "        text-align: right;\n",
       "    }\n",
       "</style>\n",
       "<table border=\"1\" class=\"dataframe\">\n",
       "  <thead>\n",
       "    <tr style=\"text-align: right;\">\n",
       "      <th></th>\n",
       "      <th>age_years</th>\n",
       "      <th>sex_0male_1female</th>\n",
       "      <th>episode_number</th>\n",
       "      <th>hospital_outcome_1alive_0dead</th>\n",
       "    </tr>\n",
       "  </thead>\n",
       "  <tbody>\n",
       "    <tr>\n",
       "      <th>count</th>\n",
       "      <td>137.000000</td>\n",
       "      <td>137.000000</td>\n",
       "      <td>137.000000</td>\n",
       "      <td>137.000000</td>\n",
       "    </tr>\n",
       "    <tr>\n",
       "      <th>mean</th>\n",
       "      <td>59.540146</td>\n",
       "      <td>0.343066</td>\n",
       "      <td>1.160584</td>\n",
       "      <td>0.824818</td>\n",
       "    </tr>\n",
       "    <tr>\n",
       "      <th>std</th>\n",
       "      <td>15.748956</td>\n",
       "      <td>0.476475</td>\n",
       "      <td>0.368494</td>\n",
       "      <td>0.381518</td>\n",
       "    </tr>\n",
       "    <tr>\n",
       "      <th>min</th>\n",
       "      <td>20.000000</td>\n",
       "      <td>0.000000</td>\n",
       "      <td>1.000000</td>\n",
       "      <td>0.000000</td>\n",
       "    </tr>\n",
       "    <tr>\n",
       "      <th>25%</th>\n",
       "      <td>50.000000</td>\n",
       "      <td>0.000000</td>\n",
       "      <td>1.000000</td>\n",
       "      <td>1.000000</td>\n",
       "    </tr>\n",
       "    <tr>\n",
       "      <th>50%</th>\n",
       "      <td>60.000000</td>\n",
       "      <td>0.000000</td>\n",
       "      <td>1.000000</td>\n",
       "      <td>1.000000</td>\n",
       "    </tr>\n",
       "    <tr>\n",
       "      <th>75%</th>\n",
       "      <td>72.000000</td>\n",
       "      <td>1.000000</td>\n",
       "      <td>1.000000</td>\n",
       "      <td>1.000000</td>\n",
       "    </tr>\n",
       "    <tr>\n",
       "      <th>max</th>\n",
       "      <td>89.000000</td>\n",
       "      <td>1.000000</td>\n",
       "      <td>2.000000</td>\n",
       "      <td>1.000000</td>\n",
       "    </tr>\n",
       "  </tbody>\n",
       "</table>\n",
       "</div>"
      ],
      "text/plain": [
       "        age_years  sex_0male_1female  episode_number  \\\n",
       "count  137.000000         137.000000      137.000000   \n",
       "mean    59.540146           0.343066        1.160584   \n",
       "std     15.748956           0.476475        0.368494   \n",
       "min     20.000000           0.000000        1.000000   \n",
       "25%     50.000000           0.000000        1.000000   \n",
       "50%     60.000000           0.000000        1.000000   \n",
       "75%     72.000000           1.000000        1.000000   \n",
       "max     89.000000           1.000000        2.000000   \n",
       "\n",
       "       hospital_outcome_1alive_0dead  \n",
       "count                     137.000000  \n",
       "mean                        0.824818  \n",
       "std                         0.381518  \n",
       "min                         0.000000  \n",
       "25%                         1.000000  \n",
       "50%                         1.000000  \n",
       "75%                         1.000000  \n",
       "max                         1.000000  "
      ]
     },
     "execution_count": 34,
     "metadata": {},
     "output_type": "execute_result"
    }
   ],
   "source": [
    "new_records.describe()"
   ]
  },
  {
   "cell_type": "code",
   "execution_count": 35,
   "metadata": {},
   "outputs": [
    {
     "data": {
      "text/plain": [
       "<AxesSubplot:xlabel='hospital_outcome_1alive_0dead', ylabel='Count'>"
      ]
     },
     "execution_count": 35,
     "metadata": {},
     "output_type": "execute_result"
    },
    {
     "data": {
      "image/png": "[encoded data removed]",
      "text/plain": [
       "<Figure size 432x288 with 1 Axes>"
      ]
     },
     "metadata": {
      "needs_background": "light"
     },
     "output_type": "display_data"
    }
   ],
   "source": [
    "sns.histplot(new_records['hospital_outcome_1alive_0dead'],color='red')"
   ]
  },
  {
   "cell_type": "code",
   "execution_count": 36,
   "metadata": {},
   "outputs": [
    {
     "data": {
      "text/plain": [
       "<seaborn.axisgrid.FacetGrid at 0x1c09b5e2bb0>"
      ]
     },
     "execution_count": 36,
     "metadata": {},
     "output_type": "execute_result"
    },
    {
     "data": {
      "image/png": "[encoded data removed]",
      "text/plain": [
       "<Figure size 432x216 with 2 Axes>"
      ]
     },
     "metadata": {
      "needs_background": "light"
     },
     "output_type": "display_data"
    }
   ],
   "source": [
    "g=sns.FacetGrid(data=new_records,col='hospital_outcome_1alive_0dead')\n",
    "g.map(plt.hist,'age_years')"
   ]
  },
  {
   "cell_type": "code",
   "execution_count": 37,
   "metadata": {},
   "outputs": [
    {
     "data": {
      "text/plain": [
       "<seaborn.axisgrid.FacetGrid at 0x1c09a95c700>"
      ]
     },
     "execution_count": 37,
     "metadata": {},
     "output_type": "execute_result"
    },
    {
     "data": {
      "image/png": "[encoded data removed]",
      "text/plain": [
       "<Figure size 432x216 with 2 Axes>"
      ]
     },
     "metadata": {
      "needs_background": "light"
     },
     "output_type": "display_data"
    }
   ],
   "source": [
    "g=sns.FacetGrid(data=new_records,col='hospital_outcome_1alive_0dead')\n",
    "g.map(plt.hist,'episode_number')"
   ]
  },
  {
   "cell_type": "code",
   "execution_count": 38,
   "metadata": {},
   "outputs": [
    {
     "data": {
      "text/plain": [
       "<seaborn.axisgrid.PairGrid at 0x1c09b8e73a0>"
      ]
     },
     "execution_count": 38,
     "metadata": {},
     "output_type": "execute_result"
    },
    {
     "data": {
      "image/png": "[encoded data removed]",
      "text/plain": [
       "<Figure size 707.75x540 with 12 Axes>"
      ]
     },
     "metadata": {
      "needs_background": "light"
     },
     "output_type": "display_data"
    }
   ],
   "source": [
    "sns.pairplot(data=new_records,hue='hospital_outcome_1alive_0dead',palette='coolwarm')"
   ]
  },
  {
   "cell_type": "markdown",
   "metadata": {},
   "source": [
    "The data is similary imbalanced, with number of survived patients way more than those deceased"
   ]
  },
  {
   "cell_type": "markdown",
   "metadata": {},
   "source": [
    "Below, I have used all the four machine learning algorithms defined above for getting predictions on new data. \n",
    "First, I train the model directly using the original dataset (patients) and then use the model to predict values for data points in new_records.\n",
    "\n",
    "Then I use the patients dataset, oversample it with the best technique identified above and then use it for predicting values for the data points in new_records"
   ]
  },
  {
   "cell_type": "code",
   "execution_count": 39,
   "metadata": {},
   "outputs": [],
   "source": [
    "from sklearn.metrics import confusion_matrix,classification_report # packages for performance metrics of models\n",
    "from sklearn.model_selection import train_test_split # to split the data between training and testing dataset"
   ]
  },
  {
   "cell_type": "markdown",
   "metadata": {},
   "source": [
    "For more details on confusion matrix and classification report, refer to the following link:\n",
    "\n",
    "https://www.geeksforgeeks.org/compute-classification-report-and-confusion-matrix-in-python/"
   ]
  },
  {
   "cell_type": "code",
   "execution_count": 40,
   "metadata": {},
   "outputs": [],
   "source": [
    "Xnew=new_records[['age_years','sex_0male_1female','episode_number']].values # getting the predictor variables\n",
    "ynew=new_records['hospital_outcome_1alive_0dead'].values # getting the outcome variable"
   ]
  },
  {
   "cell_type": "markdown",
   "metadata": {},
   "source": [
    "### Logistic Regression Model"
   ]
  },
  {
   "cell_type": "code",
   "execution_count": 41,
   "metadata": {},
   "outputs": [
    {
     "name": "stdout",
     "output_type": "stream",
     "text": [
      "              precision    recall  f1-score   support\n",
      "\n",
      "           0       0.00      0.00      0.00        24\n",
      "           1       0.82      1.00      0.90       113\n",
      "\n",
      "    accuracy                           0.82       137\n",
      "   macro avg       0.41      0.50      0.45       137\n",
      "weighted avg       0.68      0.82      0.75       137\n",
      "\n",
      "[[  0  24]\n",
      " [  0 113]]\n"
     ]
    },
    {
     "name": "stderr",
     "output_type": "stream",
     "text": [
      "C:\\Users\\Hp\\anaconda3\\lib\\site-packages\\sklearn\\metrics\\_classification.py:1221: UndefinedMetricWarning: Precision and F-score are ill-defined and being set to 0.0 in labels with no predicted samples. Use `zero_division` parameter to control this behavior.\n",
      "  _warn_prf(average, modifier, msg_start, len(result))\n"
     ]
    }
   ],
   "source": [
    "X_train, X_test, y_train, y_test = train_test_split(Xnew, ynew, test_size=0.2, random_state=1)\n",
    "model1=LogisticRegression()\n",
    "model1.fit(X,y)\n",
    "predictions=model1.predict(Xnew)\n",
    "print(classification_report(ynew,predictions))\n",
    "print(confusion_matrix(ynew,predictions))"
   ]
  },
  {
   "cell_type": "markdown",
   "metadata": {},
   "source": [
    "Model when trained on original dataset, predicts all data points as class label 1 (survived). This result is expected because of heavy imbalance in the dataset"
   ]
  },
  {
   "cell_type": "code",
   "execution_count": 42,
   "metadata": {},
   "outputs": [],
   "source": [
    "# using BorderlineSMOTE to oversample the minority class in patients before it is used to train LogisticRegression Model\n",
    "oversample=BorderlineSMOTE()\n",
    "X1, y1 = oversample.fit_resample(X, y)"
   ]
  },
  {
   "cell_type": "code",
   "execution_count": 43,
   "metadata": {},
   "outputs": [
    {
     "data": {
      "text/plain": [
       "(array([15445.,     0.,     0.,     0.,     0.,     0.,     0.,     0.,\n",
       "            0., 15445.]),\n",
       " array([0. , 0.1, 0.2, 0.3, 0.4, 0.5, 0.6, 0.7, 0.8, 0.9, 1. ]),\n",
       " <BarContainer object of 10 artists>)"
      ]
     },
     "execution_count": 43,
     "metadata": {},
     "output_type": "execute_result"
    },
    {
     "data": {
      "image/png": "[encoded data removed]",
      "text/plain": [
       "<Figure size 432x288 with 1 Axes>"
      ]
     },
     "metadata": {
      "needs_background": "light"
     },
     "output_type": "display_data"
    }
   ],
   "source": [
    "plt.hist(y1)"
   ]
  },
  {
   "cell_type": "code",
   "execution_count": 44,
   "metadata": {},
   "outputs": [
    {
     "name": "stdout",
     "output_type": "stream",
     "text": [
      "              precision    recall  f1-score   support\n",
      "\n",
      "           0       0.25      0.29      0.27        24\n",
      "           1       0.84      0.81      0.83       113\n",
      "\n",
      "    accuracy                           0.72       137\n",
      "   macro avg       0.55      0.55      0.55       137\n",
      "weighted avg       0.74      0.72      0.73       137\n",
      "\n",
      "[[ 7 17]\n",
      " [21 92]]\n"
     ]
    }
   ],
   "source": [
    "logmodel=LogisticRegression()\n",
    "logmodel.fit(X1,y1)\n",
    "predictions=logmodel.predict(Xnew)\n",
    "print(classification_report(ynew,predictions))\n",
    "print(confusion_matrix(ynew,predictions))"
   ]
  },
  {
   "cell_type": "markdown",
   "metadata": {},
   "source": [
    "Using OverSampling, the model is able to distinguish class labels upto some extent. Though this model suffers a bit on precision for class label 1 as compared to the model without oversampling. But this improves the precision, recall and f1-score for minority class by a little amount. Inspecting the confusion matrix also, we can see that there is a slight improvement in the model for distinguising between both class label instances"
   ]
  },
  {
   "cell_type": "markdown",
   "metadata": {},
   "source": [
    "### Random Forest Classifier"
   ]
  },
  {
   "cell_type": "code",
   "execution_count": 45,
   "metadata": {},
   "outputs": [
    {
     "name": "stdout",
     "output_type": "stream",
     "text": [
      "              precision    recall  f1-score   support\n",
      "\n",
      "           0       0.00      0.00      0.00        24\n",
      "           1       0.82      1.00      0.90       113\n",
      "\n",
      "    accuracy                           0.82       137\n",
      "   macro avg       0.41      0.50      0.45       137\n",
      "weighted avg       0.68      0.82      0.75       137\n",
      "\n",
      "[[  0  24]\n",
      " [  0 113]]\n"
     ]
    },
    {
     "name": "stderr",
     "output_type": "stream",
     "text": [
      "C:\\Users\\Hp\\anaconda3\\lib\\site-packages\\sklearn\\metrics\\_classification.py:1221: UndefinedMetricWarning: Precision and F-score are ill-defined and being set to 0.0 in labels with no predicted samples. Use `zero_division` parameter to control this behavior.\n",
      "  _warn_prf(average, modifier, msg_start, len(result))\n"
     ]
    }
   ],
   "source": [
    "model2=RandomForestClassifier()\n",
    "model2.fit(X,y)\n",
    "predictions=model2.predict(Xnew)\n",
    "print(classification_report(ynew,predictions))\n",
    "print(confusion_matrix(ynew,predictions))"
   ]
  },
  {
   "cell_type": "code",
   "execution_count": 46,
   "metadata": {},
   "outputs": [],
   "source": [
    "oversample=RandomOverSampler(sampling_strategy='minority')\n",
    "X2, y2 = oversample.fit_resample(X, y)"
   ]
  },
  {
   "cell_type": "code",
   "execution_count": 47,
   "metadata": {},
   "outputs": [
    {
     "data": {
      "text/plain": [
       "(array([15445.,     0.,     0.,     0.,     0.,     0.,     0.,     0.,\n",
       "            0., 15445.]),\n",
       " array([0. , 0.1, 0.2, 0.3, 0.4, 0.5, 0.6, 0.7, 0.8, 0.9, 1. ]),\n",
       " <BarContainer object of 10 artists>)"
      ]
     },
     "execution_count": 47,
     "metadata": {},
     "output_type": "execute_result"
    },
    {
     "data": {
      "image/png": "[encoded data removed]",
      "text/plain": [
       "<Figure size 432x288 with 1 Axes>"
      ]
     },
     "metadata": {
      "needs_background": "light"
     },
     "output_type": "display_data"
    }
   ],
   "source": [
    "plt.hist(y2)"
   ]
  },
  {
   "cell_type": "code",
   "execution_count": 48,
   "metadata": {},
   "outputs": [
    {
     "name": "stdout",
     "output_type": "stream",
     "text": [
      "              precision    recall  f1-score   support\n",
      "\n",
      "           0       0.13      0.25      0.17        24\n",
      "           1       0.80      0.65      0.72       113\n",
      "\n",
      "    accuracy                           0.58       137\n",
      "   macro avg       0.47      0.45      0.45       137\n",
      "weighted avg       0.69      0.58      0.63       137\n",
      "\n",
      "[[ 6 18]\n",
      " [39 74]]\n"
     ]
    }
   ],
   "source": [
    "rfc=RandomForestClassifier()\n",
    "rfc.fit(X2,y2)\n",
    "predictions=rfc.predict(Xnew)\n",
    "print(classification_report(ynew,predictions))\n",
    "print(confusion_matrix(ynew,predictions))"
   ]
  },
  {
   "cell_type": "markdown",
   "metadata": {},
   "source": [
    "### Naive Bayes Classifier"
   ]
  },
  {
   "cell_type": "code",
   "execution_count": 49,
   "metadata": {},
   "outputs": [
    {
     "name": "stdout",
     "output_type": "stream",
     "text": [
      "              precision    recall  f1-score   support\n",
      "\n",
      "           0       0.00      0.00      0.00        24\n",
      "           1       0.82      1.00      0.90       113\n",
      "\n",
      "    accuracy                           0.82       137\n",
      "   macro avg       0.41      0.50      0.45       137\n",
      "weighted avg       0.68      0.82      0.75       137\n",
      "\n",
      "[[  0  24]\n",
      " [  0 113]]\n"
     ]
    },
    {
     "name": "stderr",
     "output_type": "stream",
     "text": [
      "C:\\Users\\Hp\\anaconda3\\lib\\site-packages\\sklearn\\metrics\\_classification.py:1221: UndefinedMetricWarning: Precision and F-score are ill-defined and being set to 0.0 in labels with no predicted samples. Use `zero_division` parameter to control this behavior.\n",
      "  _warn_prf(average, modifier, msg_start, len(result))\n"
     ]
    }
   ],
   "source": [
    "model3=MultinomialNB()\n",
    "model3.fit(X,y)\n",
    "predictions=model3.predict(Xnew)\n",
    "print(classification_report(ynew,predictions))\n",
    "print(confusion_matrix(ynew,predictions))"
   ]
  },
  {
   "cell_type": "code",
   "execution_count": 50,
   "metadata": {},
   "outputs": [
    {
     "data": {
      "text/plain": [
       "(array([15445.,     0.,     0.,     0.,     0.,     0.,     0.,     0.,\n",
       "            0., 15445.]),\n",
       " array([0. , 0.1, 0.2, 0.3, 0.4, 0.5, 0.6, 0.7, 0.8, 0.9, 1. ]),\n",
       " <BarContainer object of 10 artists>)"
      ]
     },
     "execution_count": 50,
     "metadata": {},
     "output_type": "execute_result"
    },
    {
     "data": {
      "image/png": "[encoded data removed]",
      "text/plain": [
       "<Figure size 432x288 with 1 Axes>"
      ]
     },
     "metadata": {
      "needs_background": "light"
     },
     "output_type": "display_data"
    }
   ],
   "source": [
    "oversample=RandomOverSampler(sampling_strategy='minority')\n",
    "X3, y3 = oversample.fit_resample(X, y)\n",
    "plt.hist(y3)"
   ]
  },
  {
   "cell_type": "code",
   "execution_count": 51,
   "metadata": {},
   "outputs": [
    {
     "name": "stdout",
     "output_type": "stream",
     "text": [
      "              precision    recall  f1-score   support\n",
      "\n",
      "           0       0.13      0.38      0.19        24\n",
      "           1       0.78      0.47      0.59       113\n",
      "\n",
      "    accuracy                           0.45       137\n",
      "   macro avg       0.45      0.42      0.39       137\n",
      "weighted avg       0.67      0.45      0.52       137\n",
      "\n",
      "[[ 9 15]\n",
      " [60 53]]\n"
     ]
    }
   ],
   "source": [
    "gnb=MultinomialNB()\n",
    "gnb.fit(X3,y3)\n",
    "predictions=gnb.predict(Xnew)\n",
    "print(classification_report(ynew,predictions))\n",
    "print(confusion_matrix(ynew,predictions))"
   ]
  },
  {
   "cell_type": "markdown",
   "metadata": {},
   "source": [
    "### Support Vector Classifier"
   ]
  },
  {
   "cell_type": "code",
   "execution_count": 52,
   "metadata": {},
   "outputs": [
    {
     "name": "stdout",
     "output_type": "stream",
     "text": [
      "              precision    recall  f1-score   support\n",
      "\n",
      "           0       0.00      0.00      0.00        24\n",
      "           1       0.82      1.00      0.90       113\n",
      "\n",
      "    accuracy                           0.82       137\n",
      "   macro avg       0.41      0.50      0.45       137\n",
      "weighted avg       0.68      0.82      0.75       137\n",
      "\n",
      "[[  0  24]\n",
      " [  0 113]]\n"
     ]
    },
    {
     "name": "stderr",
     "output_type": "stream",
     "text": [
      "C:\\Users\\Hp\\anaconda3\\lib\\site-packages\\sklearn\\metrics\\_classification.py:1221: UndefinedMetricWarning: Precision and F-score are ill-defined and being set to 0.0 in labels with no predicted samples. Use `zero_division` parameter to control this behavior.\n",
      "  _warn_prf(average, modifier, msg_start, len(result))\n"
     ]
    }
   ],
   "source": [
    "model4=SVC()\n",
    "model4.fit(X,y)\n",
    "predictions=model4.predict(Xnew)\n",
    "print(classification_report(ynew,predictions))\n",
    "print(confusion_matrix(ynew,predictions))"
   ]
  },
  {
   "cell_type": "code",
   "execution_count": 53,
   "metadata": {},
   "outputs": [
    {
     "data": {
      "text/plain": [
       "(array([15445.,     0.,     0.,     0.,     0.,     0.,     0.,     0.,\n",
       "            0., 15445.]),\n",
       " array([0. , 0.1, 0.2, 0.3, 0.4, 0.5, 0.6, 0.7, 0.8, 0.9, 1. ]),\n",
       " <BarContainer object of 10 artists>)"
      ]
     },
     "execution_count": 53,
     "metadata": {},
     "output_type": "execute_result"
    },
    {
     "data": {
      "image/png": "[encoded data removed]",
      "text/plain": [
       "<Figure size 432x288 with 1 Axes>"
      ]
     },
     "metadata": {
      "needs_background": "light"
     },
     "output_type": "display_data"
    }
   ],
   "source": [
    "oversample=SMOTE()\n",
    "X4, y4 = oversample.fit_resample(X, y)\n",
    "plt.hist(y4)"
   ]
  },
  {
   "cell_type": "code",
   "execution_count": 54,
   "metadata": {},
   "outputs": [
    {
     "name": "stdout",
     "output_type": "stream",
     "text": [
      "              precision    recall  f1-score   support\n",
      "\n",
      "           0       0.26      0.46      0.33        24\n",
      "           1       0.86      0.73      0.79       113\n",
      "\n",
      "    accuracy                           0.68       137\n",
      "   macro avg       0.56      0.59      0.56       137\n",
      "weighted avg       0.76      0.68      0.71       137\n",
      "\n",
      "[[11 13]\n",
      " [31 82]]\n"
     ]
    }
   ],
   "source": [
    "svc=SVC()\n",
    "svc.fit(X4,y4)\n",
    "predictions=svc.predict(Xnew)\n",
    "print(classification_report(ynew,predictions))\n",
    "print(confusion_matrix(ynew,predictions))"
   ]
  },
  {
   "cell_type": "markdown",
   "metadata": {},
   "source": [
    "As we can see that in all of the above 4 machine learning algorithms implemented, we are getting an improved result for minority class(0) with a slight decrease in the model's performance for majority class (1). This  has been possible due to the presence of more data points due to oversampling.\n",
    "Now if in real life, we have actual real data points for minority class and there is no imbalance, then we can expect to get a reasonable model based on only three predictors used, as it is claimed by the researchers"
   ]
  },
  {
   "cell_type": "markdown",
   "metadata": {},
   "source": [
    "But still, we cannot expect the f1-score to be good for class  (0), i.e. the patients who are actually deceased. Because in this case also, we get the max score as 0.33 for minority class when SVC is applied to the data.\n",
    "One obvious reason is the class imbalance of data, as synthetically produced data points cannot provide the actual true picture\n",
    "Other reason is the use of only three predictor variables for research. Though the researchers claim that these predictors are enough to predict survival (class 1), which is True, but it has poor performance on predicting class 0 (which can actually be terrible in real life scenario). There should be more research done on ways to improve the model, so as to have a better performance for class 0 as well"
   ]
  },
  {
   "cell_type": "markdown",
   "metadata": {},
   "source": [
    "Researchers have used only Random Over Sampling in their research, but I tried other techniques also, with an aim of finding a better one. Though there was not much difference in AUC scores, which suggests that there can be better OverSampling techniques used other than the ones used by me for getting an improved model"
   ]
  },
  {
   "cell_type": "markdown",
   "metadata": {},
   "source": [
    "# Conclusion"
   ]
  },
  {
   "cell_type": "markdown",
   "metadata": {},
   "source": [
    "I strongly believe that there could have been more predictor variables, other than the 3 mentioned, that could have lead to a better model performance for both class instances. \n",
    "In such cases, imbalanced classes pose a very difficult task for machine learning algorithms, which are designed to do their best on the training dataset provided to them. The presence of less predictor variables further adds to the difficulty of this task, as is seen in this case.\n",
    "\n",
    "For this project, one can conclude that there is definitely improvement in the performance of a model on imbalanced datasets, after the application of OverSampling techniques on training dataset used for building the model"
   ]
  },
  {
   "cell_type": "code",
   "execution_count": null,
   "metadata": {},
   "outputs": [],
   "source": []
  }
 ],
 "metadata": {
  "kernelspec": {
   "display_name": "Python 3",
   "language": "python",
   "name": "python3"
  },
  "language_info": {
   "codemirror_mode": {
    "name": "ipython",
    "version": 3
   },
   "file_extension": ".py",
   "mimetype": "text/x-python",
   "name": "python",
   "nbconvert_exporter": "python",
   "pygments_lexer": "ipython3",
   "version": "3.8.5"
  }
 },
 "nbformat": 4,
 "nbformat_minor": 4
}
